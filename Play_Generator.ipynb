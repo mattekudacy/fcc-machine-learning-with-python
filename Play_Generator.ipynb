{
  "nbformat": 4,
  "nbformat_minor": 0,
  "metadata": {
    "colab": {
      "name": "Play_Generator.ipynb",
      "provenance": [],
      "collapsed_sections": [],
      "authorship_tag": "ABX9TyOfv1spkN4sD9S3dhoIprZC",
      "include_colab_link": true
    },
    "kernelspec": {
      "name": "python3",
      "display_name": "Python 3"
    },
    "language_info": {
      "name": "python"
    },
    "accelerator": "GPU"
  },
  "cells": [
    {
      "cell_type": "markdown",
      "metadata": {
        "id": "view-in-github",
        "colab_type": "text"
      },
      "source": [
        "<a href=\"https://colab.research.google.com/github/mattekudacy/fcc-machine-learning-with-python/blob/main/Play_Generator.ipynb\" target=\"_parent\"><img src=\"https://colab.research.google.com/assets/colab-badge.svg\" alt=\"Open In Colab\"/></a>"
      ]
    },
    {
      "cell_type": "code",
      "execution_count": null,
      "metadata": {
        "id": "82094HaDvjpP"
      },
      "outputs": [],
      "source": [
        "%tensorflow_version 2.x\n",
        "from keras.preprocessing import sequence\n",
        "import keras\n",
        "import tensorflow as tf\n",
        "import os \n",
        "import numpy as np"
      ]
    },
    {
      "cell_type": "code",
      "source": [
        "# path_to_file = tf.keras.utils.get_file('shakespeare.text', 'https://storage.googleapis.com/download.tensorflow.org/data/shakespeare.txt')"
      ],
      "metadata": {
        "id": "iM_ZZIwfv57W"
      },
      "execution_count": null,
      "outputs": []
    },
    {
      "cell_type": "code",
      "source": [
        "from google.colab import files\n",
        "path_to_file = list(files.upload().keys())[0]"
      ],
      "metadata": {
        "id": "bTSiTvFowwvd",
        "colab": {
          "resources": {
            "http://localhost:8080/nbextensions/google.colab/files.js": {
              "data": "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",
              "ok": true,
              "headers": [
                [
                  "content-type",
                  "application/javascript"
                ]
              ],
              "status": 200,
              "status_text": ""
            }
          },
          "base_uri": "https://localhost:8080/",
          "height": 74
        },
        "outputId": "bcc77774-5d77-4169-d2d6-eb17804f879c"
      },
      "execution_count": null,
      "outputs": [
        {
          "output_type": "display_data",
          "data": {
            "text/plain": [
              "<IPython.core.display.HTML object>"
            ],
            "text/html": [
              "\n",
              "     <input type=\"file\" id=\"files-eb06422d-9047-43f4-a942-d935238b1180\" name=\"files[]\" multiple disabled\n",
              "        style=\"border:none\" />\n",
              "     <output id=\"result-eb06422d-9047-43f4-a942-d935238b1180\">\n",
              "      Upload widget is only available when the cell has been executed in the\n",
              "      current browser session. Please rerun this cell to enable.\n",
              "      </output>\n",
              "      <script src=\"/nbextensions/google.colab/files.js\"></script> "
            ]
          },
          "metadata": {}
        },
        {
          "output_type": "stream",
          "name": "stdout",
          "text": [
            "Saving shrek.txt to shrek (1).txt\n"
          ]
        }
      ]
    },
    {
      "cell_type": "code",
      "source": [
        "# read and decode\n",
        "text = open(path_to_file, 'rb').read().decode(encoding='utf-8')\n",
        "# count length of text which will be number of characeters\n",
        "print(\"Length of text: {} character\".format(len(text)))"
      ],
      "metadata": {
        "colab": {
          "base_uri": "https://localhost:8080/"
        },
        "id": "TaUHXW7mx7x8",
        "outputId": "8467d47c-2e21-4fda-e134-e84a0ab4ad9f"
      },
      "execution_count": null,
      "outputs": [
        {
          "output_type": "stream",
          "name": "stdout",
          "text": [
            "Length of text: 74691 character\n"
          ]
        }
      ]
    },
    {
      "cell_type": "code",
      "source": [
        "print(text[:250])"
      ],
      "metadata": {
        "colab": {
          "base_uri": "https://localhost:8080/"
        },
        "id": "wPdYAk5mygmj",
        "outputId": "9279afba-42ac-4fd5-9dae-3383456a8a38"
      },
      "execution_count": null,
      "outputs": [
        {
          "output_type": "stream",
          "name": "stdout",
          "text": [
            "SHREK (2001)\r\n",
            "Writer Credits:\r\n",
            "William Steig (Book); Ted Elliott, Terry Rossio, Joe Stillman & Roger S.H. Schulman (Screenplay); Cody Cameron, Chris Miller & Conrad Vernon (Additional Dialogue).\r\n",
            "OPENING SEQUENCE: A FAIRYTALE BOOK\r\n",
            "Voiceover: Shrek\r\n",
            "\n"
          ]
        }
      ]
    },
    {
      "cell_type": "code",
      "source": [
        "vocab = sorted(set(text))\n",
        "# creating a mapping from unique characters to indices\n",
        "char2idx = {u:i for i, u in enumerate(vocab)}\n",
        "idx2char = np.array(vocab)\n",
        "\n",
        "def text_to_int(text):\n",
        "  return np.array([char2idx[c] for c in text])\n",
        "\n",
        "text_as_int = text_to_int(text)"
      ],
      "metadata": {
        "id": "rVukIGmMy5xD"
      },
      "execution_count": null,
      "outputs": []
    },
    {
      "cell_type": "code",
      "source": [
        "print(\"Text:\", text[:13])\n",
        "print(\"Encoded:\", text_to_int(text[:13]))"
      ],
      "metadata": {
        "colab": {
          "base_uri": "https://localhost:8080/"
        },
        "id": "JvmXIkhVzj3z",
        "outputId": "6278481b-f4fd-4d83-ed09-c80c18f3822c"
      },
      "execution_count": null,
      "outputs": [
        {
          "output_type": "stream",
          "name": "stdout",
          "text": [
            "Text: SHREK (2001)\r\n",
            "Encoded: [41 30 40 27 33  2  7 15 13 13 14  8  1]\n"
          ]
        }
      ]
    },
    {
      "cell_type": "code",
      "source": [
        "def int_to_text(ints):\n",
        "  try:\n",
        "    ints = ints.numpy()\n",
        "  except:\n",
        "    pass\n",
        "  return ''.join(idx2char[ints])\n",
        "\n",
        "print(int_to_text(text_as_int[:13]))"
      ],
      "metadata": {
        "colab": {
          "base_uri": "https://localhost:8080/"
        },
        "id": "jImNAGSL03zh",
        "outputId": "fd8327a1-c39c-4c78-b9b5-198aa264957a"
      },
      "execution_count": null,
      "outputs": [
        {
          "output_type": "stream",
          "name": "stdout",
          "text": [
            "SHREK (2001)\r\n"
          ]
        }
      ]
    },
    {
      "cell_type": "code",
      "source": [
        "seq_length = 100 #length of sequence for a training example\n",
        "example_per_epoch = len(text)//(seq_length+1)\n",
        "\n",
        "# create training examples / targets\n",
        "char_dataset = tf.data.Dataset.from_tensor_slices(text_as_int)"
      ],
      "metadata": {
        "id": "GdTiXocu06kx"
      },
      "execution_count": null,
      "outputs": []
    },
    {
      "cell_type": "code",
      "source": [
        "sequences = char_dataset.batch(seq_length+1, drop_remainder=True)"
      ],
      "metadata": {
        "id": "19Cv661U2caJ"
      },
      "execution_count": null,
      "outputs": []
    },
    {
      "cell_type": "code",
      "source": [
        "def split_input_target(chunk): # for example hello\n",
        "  input_text = chunk[:-1] #hell\n",
        "  target_text = chunk[1:] #ello\n",
        "  return input_text, target_text #hell, ello\n",
        "\n",
        "dataset = sequences.map(split_input_target) # we use map to apply the above function to every entry"
      ],
      "metadata": {
        "id": "BSDL8ZNZ2oe3"
      },
      "execution_count": null,
      "outputs": []
    },
    {
      "cell_type": "code",
      "source": [
        "for x, y in dataset.take(2):\n",
        "  print(\"\\n\\nEXAMPLE\\n\")\n",
        "  print(\"INPUT\")\n",
        "  print(int_to_text(x))\n",
        "  print(\"\\nOUTPUT\")\n",
        "  print(int_to_text(y))"
      ],
      "metadata": {
        "colab": {
          "base_uri": "https://localhost:8080/"
        },
        "id": "taaRG6073sRG",
        "outputId": "a10f3203-c1b6-45f1-98f0-b4e3b23cd93a"
      },
      "execution_count": null,
      "outputs": [
        {
          "output_type": "stream",
          "name": "stdout",
          "text": [
            "\n",
            "\n",
            "EXAMPLE\n",
            "\n",
            "INPUT\n",
            "SHREK (2001)\r\n",
            "Writer Credits:\r\n",
            "William Steig (Book); Ted Elliott, Terry Rossio, Joe Stillman & Roger\n",
            "\n",
            "OUTPUT\n",
            "HREK (2001)\r\n",
            "Writer Credits:\r\n",
            "William Steig (Book); Ted Elliott, Terry Rossio, Joe Stillman & Roger \n",
            "\n",
            "\n",
            "EXAMPLE\n",
            "\n",
            "INPUT\n",
            "S.H. Schulman (Screenplay); Cody Cameron, Chris Miller & Conrad Vernon (Additional Dialogue).\r\n",
            "OPENI\n",
            "\n",
            "OUTPUT\n",
            ".H. Schulman (Screenplay); Cody Cameron, Chris Miller & Conrad Vernon (Additional Dialogue).\r\n",
            "OPENIN\n"
          ]
        }
      ]
    },
    {
      "cell_type": "code",
      "source": [
        "BATCH_SIZE = 64\n",
        "VOCAB_SIZE = len(vocab) #vocab is number of unique characters\n",
        "EMBEDDING_DIM = 256\n",
        "RNN_UNITS = 1024\n",
        "\n",
        "BUFFER_SIZE = 10000\n",
        "data = dataset.shuffle(BUFFER_SIZE).batch(BATCH_SIZE, drop_remainder=True)"
      ],
      "metadata": {
        "id": "3YsMEl9s4jbX"
      },
      "execution_count": null,
      "outputs": []
    },
    {
      "cell_type": "code",
      "source": [
        "def build_model(vocab_size, embedding_dim, rnn_units, batch_size):\n",
        "  model = tf.keras.Sequential([\n",
        "    tf.keras.layers.Embedding(vocab_size, embedding_dim,\n",
        "                              batch_input_shape=[batch_size, None]),\n",
        "    tf.keras.layers.LSTM(rnn_units,\n",
        "                         return_sequences=True,\n",
        "                         stateful=True,\n",
        "                         recurrent_initializer='glorot_uniform'),\n",
        "    tf.keras.layers.Dense(vocab_size)\n",
        "  ])\n",
        "  return model\n",
        "\n",
        "model = build_model(VOCAB_SIZE, EMBEDDING_DIM, RNN_UNITS, BATCH_SIZE)\n",
        "model.summary()"
      ],
      "metadata": {
        "id": "CLqpy3nq5Psl",
        "colab": {
          "base_uri": "https://localhost:8080/"
        },
        "outputId": "3f0466c7-67f8-4bfc-c3c4-aeaaeee89533"
      },
      "execution_count": null,
      "outputs": [
        {
          "output_type": "stream",
          "name": "stdout",
          "text": [
            "Model: \"sequential_7\"\n",
            "_________________________________________________________________\n",
            " Layer (type)                Output Shape              Param #   \n",
            "=================================================================\n",
            " embedding_7 (Embedding)     (64, None, 256)           21248     \n",
            "                                                                 \n",
            " lstm_7 (LSTM)               (64, None, 1024)          5246976   \n",
            "                                                                 \n",
            " dense_7 (Dense)             (64, None, 83)            85075     \n",
            "                                                                 \n",
            "=================================================================\n",
            "Total params: 5,353,299\n",
            "Trainable params: 5,353,299\n",
            "Non-trainable params: 0\n",
            "_________________________________________________________________\n"
          ]
        }
      ]
    },
    {
      "cell_type": "code",
      "source": [
        "for input_example_batch, target_example_batch in data.take(1):\n",
        "  example_batch_predictions = model(input_example_batch) #ask model for a prediction on our first batch of training data\n",
        "  print(example_batch_predictions.shape, \"# (batch_size, sequence_length, vocab_size)\") # print out input shape"
      ],
      "metadata": {
        "colab": {
          "base_uri": "https://localhost:8080/"
        },
        "id": "zkiTrByOtCBo",
        "outputId": "93ea9782-c070-4f98-bb51-1ea5306cf70a"
      },
      "execution_count": null,
      "outputs": [
        {
          "output_type": "stream",
          "name": "stdout",
          "text": [
            "(64, 100, 83) # (batch_size, sequence_length, vocab_size)\n"
          ]
        }
      ]
    },
    {
      "cell_type": "code",
      "source": [
        "# examine one prediction\n",
        "pred = example_batch_predictions[0]\n",
        "print(len(pred))\n",
        "print(pred)"
      ],
      "metadata": {
        "colab": {
          "base_uri": "https://localhost:8080/"
        },
        "id": "jrciH4AduUa9",
        "outputId": "b586bb6f-59f9-4343-83df-bad96d61bb89"
      },
      "execution_count": null,
      "outputs": [
        {
          "output_type": "stream",
          "name": "stdout",
          "text": [
            "100\n",
            "tf.Tensor(\n",
            "[[-0.0060461  -0.00045261  0.00296543 ... -0.0002754  -0.00076718\n",
            "   0.00540906]\n",
            " [ 0.0022795   0.00388176  0.0044597  ... -0.0044797   0.00013975\n",
            "   0.00113538]\n",
            " [ 0.00242784  0.00415331  0.00607896 ... -0.00365103 -0.00047672\n",
            "   0.00094596]\n",
            " ...\n",
            " [ 0.00302848 -0.01179647 -0.00342689 ...  0.00590663 -0.00737848\n",
            "   0.00703521]\n",
            " [-0.00075369 -0.01417141 -0.00557973 ...  0.0067171  -0.00958492\n",
            "   0.00756675]\n",
            " [ 0.0019905  -0.01141972 -0.00306396 ...  0.01080399 -0.00201175\n",
            "   0.01022684]], shape=(100, 83), dtype=float32)\n"
          ]
        }
      ]
    },
    {
      "cell_type": "code",
      "source": [
        "# look prediction at first time step\n",
        "time_pred = pred[0]\n",
        "print(len(time_pred))\n",
        "print(time_pred)"
      ],
      "metadata": {
        "colab": {
          "base_uri": "https://localhost:8080/"
        },
        "id": "jRqNt6Nmun3E",
        "outputId": "0352a3e5-a2fe-4143-bee8-a9c894a7f0c4"
      },
      "execution_count": null,
      "outputs": [
        {
          "output_type": "stream",
          "name": "stdout",
          "text": [
            "83\n",
            "tf.Tensor(\n",
            "[-6.0461015e-03 -4.5261148e-04  2.9654256e-03 -1.6953758e-03\n",
            "  5.7952679e-03  2.1747346e-03 -7.6204771e-04  7.8829825e-03\n",
            "  1.8282798e-03 -4.6868376e-03  6.9249352e-04  5.9049984e-05\n",
            " -2.4918835e-03 -2.4012490e-03  9.6842193e-04  3.7427070e-03\n",
            " -1.5273655e-04 -3.5242143e-03 -5.2256305e-03  5.7156757e-03\n",
            " -3.8803243e-03 -2.7025002e-03 -5.3294557e-03  3.6593908e-03\n",
            "  1.2022030e-03  2.0543062e-03  3.6286730e-03 -4.2388579e-03\n",
            "  9.3810156e-04  3.1124533e-04 -1.0505852e-03  6.0309721e-03\n",
            " -1.8713907e-03 -6.5661373e-04  5.4852008e-03 -5.6367280e-05\n",
            " -8.3871577e-03  5.0945715e-03  7.5416686e-03  1.3558607e-04\n",
            " -1.6845705e-03  6.6173291e-03 -1.7382887e-03 -2.0188144e-03\n",
            " -2.4683857e-03  2.1965760e-03  3.7409100e-03 -6.3673048e-03\n",
            " -2.4141187e-03 -2.1519405e-03  1.4604822e-03  2.2677877e-03\n",
            "  2.5373404e-03 -3.8142968e-03  2.2048308e-03  1.6934010e-03\n",
            " -6.6408335e-04 -8.3337435e-03 -2.2385465e-03 -5.1566968e-03\n",
            " -3.5533358e-03  2.3890578e-04  3.9576860e-03  3.1923535e-03\n",
            " -1.3909910e-03 -4.9882550e-03 -6.1560059e-03  4.2204699e-03\n",
            "  2.3925693e-03 -1.7530562e-03  1.1151237e-03  4.3307254e-03\n",
            " -1.3742563e-03 -5.9887255e-03  6.9611333e-03  2.3754318e-03\n",
            "  3.0391614e-03  5.0153502e-04 -8.8174921e-03  2.7740686e-03\n",
            " -2.7539697e-04 -7.6717633e-04  5.4090600e-03], shape=(83,), dtype=float32)\n"
          ]
        }
      ]
    },
    {
      "cell_type": "code",
      "source": [
        "# sample of output distribution\n",
        "sampled_indicies = tf.random.categorical(pred, num_samples=1)\n",
        "\n",
        "# reshape all array and convert all integers to numbers to see actual numbers.\n",
        "sampled_indicies = np.reshape(sampled_indicies, (1,-1))[0]\n",
        "predicted_chars = int_to_text(sampled_indicies)\n",
        "\n",
        "predicted_chars #prediction of model"
      ],
      "metadata": {
        "colab": {
          "base_uri": "https://localhost:8080/",
          "height": 35
        },
        "id": "IF7cjNzVvwwk",
        "outputId": "57aaca51-46bf-4ef1-e034-f566ceb4fec8"
      },
      "execution_count": null,
      "outputs": [
        {
          "output_type": "execute_result",
          "data": {
            "text/plain": [
              "'ov;((b{11CJ——jRS\\ny{xS.–{a3W)G{tmIO|!A:\\'13d,jlASN2?4\\'ivst—32“pTy!v/rY.J–{NbSELs1r2!I—u”\"PIf{{Y’II\\'?:2'"
            ],
            "application/vnd.google.colaboratory.intrinsic+json": {
              "type": "string"
            }
          },
          "metadata": {},
          "execution_count": 131
        }
      ]
    },
    {
      "cell_type": "code",
      "source": [
        "def loss(labels, logits):\n",
        "  return tf.keras.losses.sparse_categorical_crossentropy(labels, logits, from_logits=True)"
      ],
      "metadata": {
        "id": "qHibUIDvxg-K"
      },
      "execution_count": null,
      "outputs": []
    },
    {
      "cell_type": "code",
      "source": [
        "model.compile(optimizer='adam', loss=loss)"
      ],
      "metadata": {
        "id": "_zRQLMe6xy4a"
      },
      "execution_count": null,
      "outputs": []
    },
    {
      "cell_type": "code",
      "source": [
        "# where checkpoints will be saved\n",
        "checkpoint_dir = './training_checkpoints'\n",
        "\n",
        "# name of the checkpoint files\n",
        "checkpoint_prefix = os.path.join(checkpoint_dir, 'ckpt_{epoch}')\n",
        "\n",
        "checkpoint_callback = tf.keras.callbacks.ModelCheckpoint(\n",
        "    filepath=checkpoint_prefix,\n",
        "    save_weights_only = True)"
      ],
      "metadata": {
        "id": "dc1VfjO4x9bx"
      },
      "execution_count": null,
      "outputs": []
    },
    {
      "cell_type": "code",
      "source": [
        "history = model.fit(data, epochs=100, callbacks=[checkpoint_callback])"
      ],
      "metadata": {
        "colab": {
          "base_uri": "https://localhost:8080/"
        },
        "id": "SXan2EbVziJw",
        "outputId": "f634f8a3-c584-46bc-c197-702abeb44f06"
      },
      "execution_count": null,
      "outputs": [
        {
          "output_type": "stream",
          "name": "stdout",
          "text": [
            "Epoch 1/100\n",
            "11/11 [==============================] - 2s 82ms/step - loss: 3.7308\n",
            "Epoch 2/100\n",
            "11/11 [==============================] - 1s 76ms/step - loss: 3.4156\n",
            "Epoch 3/100\n",
            "11/11 [==============================] - 1s 77ms/step - loss: 3.2979\n",
            "Epoch 4/100\n",
            "11/11 [==============================] - 1s 97ms/step - loss: 3.0105\n",
            "Epoch 5/100\n",
            "11/11 [==============================] - 1s 73ms/step - loss: 2.6903\n",
            "Epoch 6/100\n",
            "11/11 [==============================] - 1s 77ms/step - loss: 2.4686\n",
            "Epoch 7/100\n",
            "11/11 [==============================] - 1s 74ms/step - loss: 2.3599\n",
            "Epoch 8/100\n",
            "11/11 [==============================] - 1s 76ms/step - loss: 2.2508\n",
            "Epoch 9/100\n",
            "11/11 [==============================] - 1s 74ms/step - loss: 2.1662\n",
            "Epoch 10/100\n",
            "11/11 [==============================] - 1s 76ms/step - loss: 2.0918\n",
            "Epoch 11/100\n",
            "11/11 [==============================] - 1s 79ms/step - loss: 2.0347\n",
            "Epoch 12/100\n",
            "11/11 [==============================] - 1s 77ms/step - loss: 1.9746\n",
            "Epoch 13/100\n",
            "11/11 [==============================] - 1s 79ms/step - loss: 1.9209\n",
            "Epoch 14/100\n",
            "11/11 [==============================] - 1s 74ms/step - loss: 1.8724\n",
            "Epoch 15/100\n",
            "11/11 [==============================] - 1s 78ms/step - loss: 1.8246\n",
            "Epoch 16/100\n",
            "11/11 [==============================] - 1s 78ms/step - loss: 1.7766\n",
            "Epoch 17/100\n",
            "11/11 [==============================] - 1s 76ms/step - loss: 1.7334\n",
            "Epoch 18/100\n",
            "11/11 [==============================] - 1s 77ms/step - loss: 1.6880\n",
            "Epoch 19/100\n",
            "11/11 [==============================] - 1s 73ms/step - loss: 1.6505\n",
            "Epoch 20/100\n",
            "11/11 [==============================] - 1s 77ms/step - loss: 1.6150\n",
            "Epoch 21/100\n",
            "11/11 [==============================] - 1s 78ms/step - loss: 1.5667\n",
            "Epoch 22/100\n",
            "11/11 [==============================] - 1s 78ms/step - loss: 1.5342\n",
            "Epoch 23/100\n",
            "11/11 [==============================] - 1s 77ms/step - loss: 1.4871\n",
            "Epoch 24/100\n",
            "11/11 [==============================] - 1s 112ms/step - loss: 1.4613\n",
            "Epoch 25/100\n",
            "11/11 [==============================] - 1s 80ms/step - loss: 1.4194\n",
            "Epoch 26/100\n",
            "11/11 [==============================] - 1s 79ms/step - loss: 1.3847\n",
            "Epoch 27/100\n",
            "11/11 [==============================] - 1s 76ms/step - loss: 1.3376\n",
            "Epoch 28/100\n",
            "11/11 [==============================] - 1s 75ms/step - loss: 1.2962\n",
            "Epoch 29/100\n",
            "11/11 [==============================] - 1s 78ms/step - loss: 1.2599\n",
            "Epoch 30/100\n",
            "11/11 [==============================] - 1s 75ms/step - loss: 1.2209\n",
            "Epoch 31/100\n",
            "11/11 [==============================] - 1s 76ms/step - loss: 1.1837\n",
            "Epoch 32/100\n",
            "11/11 [==============================] - 1s 76ms/step - loss: 1.1393\n",
            "Epoch 33/100\n",
            "11/11 [==============================] - 1s 77ms/step - loss: 1.0929\n",
            "Epoch 34/100\n",
            "11/11 [==============================] - 1s 79ms/step - loss: 1.0440\n",
            "Epoch 35/100\n",
            "11/11 [==============================] - 1s 76ms/step - loss: 1.0032\n",
            "Epoch 36/100\n",
            "11/11 [==============================] - 1s 78ms/step - loss: 0.9544\n",
            "Epoch 37/100\n",
            "11/11 [==============================] - 1s 75ms/step - loss: 0.9033\n",
            "Epoch 38/100\n",
            "11/11 [==============================] - 1s 77ms/step - loss: 0.8544\n",
            "Epoch 39/100\n",
            "11/11 [==============================] - 1s 77ms/step - loss: 0.8068\n",
            "Epoch 40/100\n",
            "11/11 [==============================] - 1s 73ms/step - loss: 0.7615\n",
            "Epoch 41/100\n",
            "11/11 [==============================] - 1s 76ms/step - loss: 0.7166\n",
            "Epoch 42/100\n",
            "11/11 [==============================] - 1s 73ms/step - loss: 0.6709\n",
            "Epoch 43/100\n",
            "11/11 [==============================] - 1s 79ms/step - loss: 0.6210\n",
            "Epoch 44/100\n",
            "11/11 [==============================] - 1s 78ms/step - loss: 0.5790\n",
            "Epoch 45/100\n",
            "11/11 [==============================] - 1s 73ms/step - loss: 0.5331\n",
            "Epoch 46/100\n",
            "11/11 [==============================] - 1s 83ms/step - loss: 0.5010\n",
            "Epoch 47/100\n",
            "11/11 [==============================] - 1s 73ms/step - loss: 0.4621\n",
            "Epoch 48/100\n",
            "11/11 [==============================] - 1s 82ms/step - loss: 0.4351\n",
            "Epoch 49/100\n",
            "11/11 [==============================] - 1s 78ms/step - loss: 0.4104\n",
            "Epoch 50/100\n",
            "11/11 [==============================] - 1s 73ms/step - loss: 0.3871\n",
            "Epoch 51/100\n",
            "11/11 [==============================] - 1s 81ms/step - loss: 0.3655\n",
            "Epoch 52/100\n",
            "11/11 [==============================] - 1s 73ms/step - loss: 0.3435\n",
            "Epoch 53/100\n",
            "11/11 [==============================] - 1s 77ms/step - loss: 0.3279\n",
            "Epoch 54/100\n",
            "11/11 [==============================] - 1s 79ms/step - loss: 0.3125\n",
            "Epoch 55/100\n",
            "11/11 [==============================] - 1s 73ms/step - loss: 0.3005\n",
            "Epoch 56/100\n",
            "11/11 [==============================] - 1s 78ms/step - loss: 0.2900\n",
            "Epoch 57/100\n",
            "11/11 [==============================] - 1s 91ms/step - loss: 0.2755\n",
            "Epoch 58/100\n",
            "11/11 [==============================] - 1s 77ms/step - loss: 0.2686\n",
            "Epoch 59/100\n",
            "11/11 [==============================] - 1s 78ms/step - loss: 0.2633\n",
            "Epoch 60/100\n",
            "11/11 [==============================] - 1s 74ms/step - loss: 0.2513\n",
            "Epoch 61/100\n",
            "11/11 [==============================] - 1s 81ms/step - loss: 0.2419\n",
            "Epoch 62/100\n",
            "11/11 [==============================] - 1s 75ms/step - loss: 0.2383\n",
            "Epoch 63/100\n",
            "11/11 [==============================] - 1s 75ms/step - loss: 0.2299\n",
            "Epoch 64/100\n",
            "11/11 [==============================] - 1s 75ms/step - loss: 0.2255\n",
            "Epoch 65/100\n",
            "11/11 [==============================] - 1s 81ms/step - loss: 0.2223\n",
            "Epoch 66/100\n",
            "11/11 [==============================] - 1s 73ms/step - loss: 0.2135\n",
            "Epoch 67/100\n",
            "11/11 [==============================] - 1s 78ms/step - loss: 0.2104\n",
            "Epoch 68/100\n",
            "11/11 [==============================] - 1s 79ms/step - loss: 0.2105\n",
            "Epoch 69/100\n",
            "11/11 [==============================] - 1s 73ms/step - loss: 0.2043\n",
            "Epoch 70/100\n",
            "11/11 [==============================] - 1s 78ms/step - loss: 0.2002\n",
            "Epoch 71/100\n",
            "11/11 [==============================] - 1s 73ms/step - loss: 0.1979\n",
            "Epoch 72/100\n",
            "11/11 [==============================] - 1s 76ms/step - loss: 0.1961\n",
            "Epoch 73/100\n",
            "11/11 [==============================] - 1s 75ms/step - loss: 0.1917\n",
            "Epoch 74/100\n",
            "11/11 [==============================] - 1s 75ms/step - loss: 0.1881\n",
            "Epoch 75/100\n",
            "11/11 [==============================] - 1s 80ms/step - loss: 0.1873\n",
            "Epoch 76/100\n",
            "11/11 [==============================] - 1s 73ms/step - loss: 0.1842\n",
            "Epoch 77/100\n",
            "11/11 [==============================] - 1s 84ms/step - loss: 0.1797\n",
            "Epoch 78/100\n",
            "11/11 [==============================] - 1s 73ms/step - loss: 0.1802\n",
            "Epoch 79/100\n",
            "11/11 [==============================] - 1s 77ms/step - loss: 0.1755\n",
            "Epoch 80/100\n",
            "11/11 [==============================] - 1s 74ms/step - loss: 0.1735\n",
            "Epoch 81/100\n",
            "11/11 [==============================] - 1s 81ms/step - loss: 0.1722\n",
            "Epoch 82/100\n",
            "11/11 [==============================] - 1s 114ms/step - loss: 0.1673\n",
            "Epoch 83/100\n",
            "11/11 [==============================] - 1s 76ms/step - loss: 0.1670\n",
            "Epoch 84/100\n",
            "11/11 [==============================] - 1s 82ms/step - loss: 0.1643\n",
            "Epoch 85/100\n",
            "11/11 [==============================] - 1s 75ms/step - loss: 0.1598\n",
            "Epoch 86/100\n",
            "11/11 [==============================] - 1s 78ms/step - loss: 0.1591\n",
            "Epoch 87/100\n",
            "11/11 [==============================] - 1s 79ms/step - loss: 0.1608\n",
            "Epoch 88/100\n",
            "11/11 [==============================] - 1s 74ms/step - loss: 0.1581\n",
            "Epoch 89/100\n",
            "11/11 [==============================] - 1s 82ms/step - loss: 0.1581\n",
            "Epoch 90/100\n",
            "11/11 [==============================] - 1s 74ms/step - loss: 0.1556\n",
            "Epoch 91/100\n",
            "11/11 [==============================] - 1s 76ms/step - loss: 0.1526\n",
            "Epoch 92/100\n",
            "11/11 [==============================] - 1s 81ms/step - loss: 0.1531\n",
            "Epoch 93/100\n",
            "11/11 [==============================] - 1s 75ms/step - loss: 0.1510\n",
            "Epoch 94/100\n",
            "11/11 [==============================] - 1s 83ms/step - loss: 0.1477\n",
            "Epoch 95/100\n",
            "11/11 [==============================] - 1s 75ms/step - loss: 0.1475\n",
            "Epoch 96/100\n",
            "11/11 [==============================] - 1s 82ms/step - loss: 0.1480\n",
            "Epoch 97/100\n",
            "11/11 [==============================] - 1s 81ms/step - loss: 0.1478\n",
            "Epoch 98/100\n",
            "11/11 [==============================] - 1s 75ms/step - loss: 0.1462\n",
            "Epoch 99/100\n",
            "11/11 [==============================] - 1s 83ms/step - loss: 0.1449\n",
            "Epoch 100/100\n",
            "11/11 [==============================] - 1s 76ms/step - loss: 0.1395\n"
          ]
        }
      ]
    },
    {
      "cell_type": "code",
      "source": [
        "model = build_model(VOCAB_SIZE, EMBEDDING_DIM, RNN_UNITS, batch_size=1)"
      ],
      "metadata": {
        "id": "I75ghiPn3Ypk"
      },
      "execution_count": null,
      "outputs": []
    },
    {
      "cell_type": "code",
      "source": [
        "model.load_weights(tf.train.latest_checkpoint(checkpoint_dir))\n",
        "model.build(tf.TensorShape([1, None]))"
      ],
      "metadata": {
        "id": "R1IbANlt5cMz"
      },
      "execution_count": null,
      "outputs": []
    },
    {
      "cell_type": "code",
      "source": [
        "# checkpoint_num = 10\n",
        "# model.load_weights(tf.train.load_checkpoint(\"./training_checkpoints/ckpt_\" + str(checkpoint_num)))\n",
        "# model.build(tf.TensorShape([1, None]))"
      ],
      "metadata": {
        "id": "sbwAs0ceAoYE"
      },
      "execution_count": null,
      "outputs": []
    },
    {
      "cell_type": "code",
      "source": [
        "def generate_text(model, start_string):\n",
        "  # evaluations step(generating text using the learned model)\n",
        "\n",
        "  # number of characters to generate\n",
        "  num_generate = 800\n",
        "\n",
        "  # convert number to string\n",
        "  input_eval = [char2idx[s] for s in start_string]\n",
        "  input_eval = tf.expand_dims(input_eval, 0)\n",
        "\n",
        "  # empty string to store results\n",
        "  text_generated = []\n",
        "\n",
        "  # low temperature = predictable text\n",
        "  # higher temperauter = suprising text\n",
        "  # just experiment\n",
        "  temperature = 1.0\n",
        "\n",
        "  # bath size == 1\n",
        "  model.reset_states()\n",
        "  for i in range(num_generate):\n",
        "    predictions = model(input_eval)\n",
        "    # remove batch dimension\n",
        "    predictions = tf.squeeze(predictions, 0)\n",
        "\n",
        "    # using categorical distribution to predict the character returned by the model.\n",
        "    predictions = predictions / temperature\n",
        "    predicted_id = tf.random.categorical(predictions, num_samples=1)[-1,0].numpy()\n",
        "\n",
        "    # pass predicted character as the next input to the model along with hidden test\n",
        "    input_eval = tf.expand_dims([predicted_id], 0)\n",
        "\n",
        "    text_generated.append(idx2char[predicted_id])\n",
        "\n",
        "  return (start_string + ''.join(text_generated))"
      ],
      "metadata": {
        "id": "LkcSL-95BnjC"
      },
      "execution_count": null,
      "outputs": []
    },
    {
      "cell_type": "code",
      "source": [
        "inp = input(\"Type a starting string: \")\n",
        "print(generate_text(model, inp))"
      ],
      "metadata": {
        "colab": {
          "base_uri": "https://localhost:8080/"
        },
        "id": "cb3VucrZEgor",
        "outputId": "fbfb7311-0689-4132-e685-2785439a8bc8"
      },
      "execution_count": null,
      "outputs": [
        {
          "output_type": "stream",
          "name": "stdout",
          "text": [
            "Type a starting string: shrek\n",
            "shrek turns and sees the Seven Dwarves with Snow White on the table.\n",
            "SHREK\n",
            "Oh, no, no, no. Des! Overy ona.\n",
            "DONKEY\n",
            "C curns a sowne be she backs to see that.\n",
            "SHREK\n",
            "Oh, thus one of thoseld in.\n",
            "CUT TO: EXT. MARYING. FOREST. DALT.. FARQUAAD’S TEER.\n",
            "Fiona s is now walks towards the windmible.\n",
            "I believe, I believe, people in the back. I was happen a hind off the table.\n",
            "DWARF\n",
            "Where are ww me.\n",
            "Lord Farquaad puckers his lips all, fortally from her.\n",
            "DONKEY\n",
            "Hey, this is really oghe the dragon tale creatures! FARQUAAD\n",
            "Indeed. All right, ogre. I'll make you a dead. Go on it's in there?\n",
            "MAN 2\n",
            "All right. Do o just a sperf.\n",
            "She ase weadon' on his over a hill and you can see Shrek's cottage.\n",
            "DONKEY\n",
            "Whoa! Looke ot Dour found a mean, beet, I have a bit of a confession to make. Donkeys don't hav\n"
          ]
        }
      ]
    }
  ]
}