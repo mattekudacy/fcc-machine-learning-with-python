{
  "nbformat": 4,
  "nbformat_minor": 0,
  "metadata": {
    "colab": {
      "name": "Clustering.ipynb",
      "provenance": [],
      "authorship_tag": "ABX9TyNWm4GBuR4FcOb8WdOiWl0q"
    },
    "kernelspec": {
      "name": "python3",
      "display_name": "Python 3"
    },
    "language_info": {
      "name": "python"
    }
  },
  "cells": [
    {
      "cell_type": "markdown",
      "source": [
        "<h1> Clustering </h1>\n",
        "\n",
        "a machine learning technique that involves the grouping of data points.<br>\n",
        "<br>\n",
        "<b> Hidden Markov Models </b> finite number of states, each which is associated with a probability distribution. <br>\n",
        "<b> States </b> in each markov have a finite set of states. These states are hidden within the mdoel , which means we do not directly observe. <br>\n",
        "<b> Obeservations </b> each state has a particular outcome or observations associated with it based on a probability distribution. <br>\n",
        "<b> Transitions </b> Each state will have a probability defining the likelyhood of transitioning to a different state."
      ],
      "metadata": {
        "id": "X1BipAOt0T8u"
      }
    },
    {
      "cell_type": "code",
      "source": [
        "%tensorflow_version 2.x"
      ],
      "metadata": {
        "id": "-XBGo_wl0nkG"
      },
      "execution_count": null,
      "outputs": []
    },
    {
      "cell_type": "code",
      "source": [
        "# !pip install tensorflow_probability==0.8.0rc0 --user --upgrade"
      ],
      "metadata": {
        "id": "5vo53SuhtevU"
      },
      "execution_count": null,
      "outputs": []
    },
    {
      "cell_type": "code",
      "source": [
        "import tensorflow_probability as tfp\n",
        "import tensorflow as tf"
      ],
      "metadata": {
        "id": "gusYEIEXL5cZ"
      },
      "execution_count": null,
      "outputs": []
    },
    {
      "cell_type": "markdown",
      "source": [
        "<h2> Weather Model </h2>\n",
        "<ol>\n",
        "<li>Cold days encoded by a 0 and hot days are encoded 1. </li>\n",
        "<li>First day in sequence has an 80% chance of being cold. </li>\n",
        "<li>Cold day has a 30% chance of being followed by a hot day. </li>\n",
        "<li>Hot day has a 20% chance of being followed by a cold day. </li>\n",
        "<li>on each day the temperature distributed with mean and standard deviation 0 and 5 on a cold day and mean and standard deviation 15 and 10 on a hot day. </li>"
      ],
      "metadata": {
        "id": "kgxJAB3IpZhr"
      }
    },
    {
      "cell_type": "code",
      "source": [
        "tfd = tfp.distributions\n",
        "initial_distribution = tfd.Categorical(probs=[0.2, 0.8])#refer to point 2 above\n",
        "transition_distribution = tfd.Categorical(probs=[[0.5, 0.5], [0.2, 0.8]])#refer to 3 and 4 above\n",
        "observation_distribution = tfd.Normal(loc=[0., 15.], scale=[5., 10.])#refer to point 5\n",
        "\n",
        "# the loc argument represents the mean and the scale is the standard deviation"
      ],
      "metadata": {
        "id": "uw-NmfEyroLk"
      },
      "execution_count": null,
      "outputs": []
    },
    {
      "cell_type": "code",
      "source": [
        "model = tfd.HiddenMarkovModel(initial_distribution=initial_distribution, transition_distribution=transition_distribution, observation_distribution=observation_distribution, num_steps=7)"
      ],
      "metadata": {
        "id": "G_mKP6NDs7Q0"
      },
      "execution_count": null,
      "outputs": []
    },
    {
      "cell_type": "code",
      "source": [
        "mean = model.mean()\n",
        "\n",
        "# due to the way tensorflow works on a lower level we need to evaluate part of the graph\n",
        "# from within a session to see the value of this tensor\n",
        "\n",
        "# in the new version of tensorflow we need to use tf.compat.1.Session rather than just tf.Session()\n",
        "with tf.compat.v1.Session() as sess:\n",
        "  print(mean.numpy())"
      ],
      "metadata": {
        "colab": {
          "base_uri": "https://localhost:8080/"
        },
        "id": "QduOQohluCe0",
        "outputId": "0ab47333-a684-42cb-d922-18d6685249b5"
      },
      "execution_count": null,
      "outputs": [
        {
          "output_type": "stream",
          "name": "stdout",
          "text": [
            "[11.999999 11.1      10.830001 10.748999 10.724699 10.71741  10.715222]\n"
          ]
        }
      ]
    }
  ]
}